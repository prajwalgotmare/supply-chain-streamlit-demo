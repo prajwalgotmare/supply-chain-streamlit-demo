{
 "cells": [
  {
   "cell_type": "code",
   "execution_count": 12,
   "metadata": {},
   "outputs": [
    {
     "name": "stdout",
     "output_type": "stream",
     "text": [
      "Data loaded successfully.\n",
      "  order_date    sku_id   location  quantity\n",
      "0 2025-04-08  mango123     Mumbai        58\n",
      "1 2025-04-08  mango123      Delhi        33\n",
      "2 2025-04-08  mango123  Bangalore        25\n",
      "3 2025-04-08  apple456     Mumbai        73\n",
      "4 2025-04-08  apple456      Delhi        87\n"
     ]
    }
   ],
   "source": [
    "import pandas as pd\n",
    "import xgboost as xgb\n",
    "from sklearn.model_selection import train_test_split\n",
    "from sklearn.metrics import mean_squared_error, mean_absolute_error\n",
    "import numpy as np\n",
    "import matplotlib.pyplot as plt\n",
    "import seaborn as sns\n",
    "\n",
    "# Load the dataset\n",
    "# Assuming you have the file in your data/ folder\n",
    "try:\n",
    "    df = pd.read_csv('data/synthetic_demand_data.csv')\n",
    "    df['order_date'] = pd.to_datetime(df['order_date'])\n",
    "    print(\"Data loaded successfully.\")\n",
    "    print(df.head())\n",
    "except FileNotFoundError:\n",
    "    print(\"Error: synthetic_demand_data.csv not found in the 'data/' directory.\")"
   ]
  },
  {
   "cell_type": "code",
   "execution_count": 13,
   "metadata": {},
   "outputs": [
    {
     "name": "stdout",
     "output_type": "stream",
     "text": [
      "Current Directory: c:\\Users\\Prajwal\\Desktop\\Farm_to_plate\\src\\training\n"
     ]
    }
   ],
   "source": [
    "import os\n",
    "\n",
    "# Get the current working directory\n",
    "current_directory = os.getcwd()\n",
    "print(\"Current Directory:\", current_directory)"
   ]
  },
  {
   "cell_type": "code",
   "execution_count": 14,
   "metadata": {},
   "outputs": [
    {
     "name": "stdout",
     "output_type": "stream",
     "text": [
      "\n",
      "Data after creating time-based features:\n",
      "  order_date    sku_id   location  quantity  day_of_week  day_of_year  month   \n",
      "0 2025-04-08  mango123     Mumbai        58            1           98      4  \\\n",
      "1 2025-04-08  mango123      Delhi        33            1           98      4   \n",
      "2 2025-04-08  mango123  Bangalore        25            1           98      4   \n",
      "3 2025-04-08  apple456     Mumbai        73            1           98      4   \n",
      "4 2025-04-08  apple456      Delhi        87            1           98      4   \n",
      "\n",
      "   week_of_year  \n",
      "0            15  \n",
      "1            15  \n",
      "2            15  \n",
      "3            15  \n",
      "4            15  \n"
     ]
    }
   ],
   "source": [
    "def create_features(df):\n",
    "    \"\"\"\n",
    "    Creates time series features from a datetime index.\n",
    "    \"\"\"\n",
    "    df_copy = df.copy()\n",
    "    df_copy['day_of_week'] = df_copy['order_date'].dt.dayofweek\n",
    "    df_copy['day_of_year'] = df_copy['order_date'].dt.dayofyear\n",
    "    df_copy['month'] = df_copy['order_date'].dt.month\n",
    "    df_copy['week_of_year'] = df_copy['order_date'].dt.isocalendar().week.astype(int)\n",
    "    \n",
    "    return df_copy\n",
    "\n",
    "df = create_features(df)\n",
    "print(\"\\nData after creating time-based features:\")\n",
    "print(df.head())"
   ]
  },
  {
   "cell_type": "code",
   "execution_count": 15,
   "metadata": {},
   "outputs": [
    {
     "name": "stdout",
     "output_type": "stream",
     "text": [
      "\n",
      "Data after creating lag and rolling features:\n",
      "  order_date    sku_id   location  quantity  day_of_week  day_of_year  month   \n",
      "0 2025-04-22  apple456  Bangalore        69            1          112      4  \\\n",
      "1 2025-04-23  apple456  Bangalore        97            2          113      4   \n",
      "2 2025-04-24  apple456  Bangalore        82            3          114      4   \n",
      "3 2025-04-25  apple456  Bangalore       122            4          115      4   \n",
      "4 2025-04-26  apple456  Bangalore       119            5          116      4   \n",
      "5 2025-04-27  apple456  Bangalore        99            6          117      4   \n",
      "6 2025-04-28  apple456  Bangalore        90            0          118      4   \n",
      "7 2025-04-29  apple456  Bangalore        75            1          119      4   \n",
      "8 2025-04-30  apple456  Bangalore       105            2          120      4   \n",
      "9 2025-05-01  apple456  Bangalore        85            3          121      5   \n",
      "\n",
      "   week_of_year  lag_7  lag_14  rolling_mean_7  rolling_mean_14  \n",
      "0            17   79.0    52.0       89.000000        86.500000  \n",
      "1            17   72.0    85.0       87.571429        87.714286  \n",
      "2            17   81.0    76.0       91.142857        88.571429  \n",
      "3            17  101.0    99.0       91.285714        89.000000  \n",
      "4            17  129.0   129.0       94.285714        90.642857  \n",
      "5            17   79.0    71.0       92.857143        89.928571  \n",
      "6            18   82.0    76.0       95.714286        91.928571  \n",
      "7            18   69.0    79.0       96.857143        92.928571  \n",
      "8            18   97.0    72.0       97.714286        92.642857  \n",
      "9            18   82.0    81.0       98.857143        95.000000  \n"
     ]
    }
   ],
   "source": [
    "# MODIFIED FUNCTION\n",
    "def create_lag_rolling_features(df, drop_na=True):\n",
    "    df_copy = df.copy()\n",
    "    # Sort data to ensure lags and rolling windows are calculated correctly\n",
    "    df_copy = df_copy.sort_values(by=['sku_id', 'location', 'order_date'])\n",
    "\n",
    "    # Lag features (sales from previous periods)\n",
    "    # We use groupby to calculate lags per item\n",
    "    df_copy['lag_7'] = df_copy.groupby(['sku_id', 'location'])['quantity'].shift(7)\n",
    "    df_copy['lag_14'] = df_copy.groupby(['sku_id', 'location'])['quantity'].shift(14)\n",
    "    \n",
    "    # Rolling window features (average sales over a past period)\n",
    "    df_copy['rolling_mean_7'] = df_copy.groupby(['sku_id', 'location'])['quantity'].shift(1).rolling(window=7).mean()\n",
    "    df_copy['rolling_mean_14'] = df_copy.groupby(['sku_id', 'location'])['quantity'].shift(1).rolling(window=14).mean()\n",
    "    \n",
    "    # Only drop rows with NaN if requested\n",
    "    if drop_na:\n",
    "        df_copy = df_copy.dropna().reset_index(drop=True)\n",
    "    \n",
    "    return df_copy\n",
    "\n",
    "df_featured = create_lag_rolling_features(df)\n",
    "print(\"\\nData after creating lag and rolling features:\")\n",
    "print(df_featured.head(10))\n"
   ]
  },
  {
   "cell_type": "code",
   "execution_count": 16,
   "metadata": {},
   "outputs": [
    {
     "name": "stdout",
     "output_type": "stream",
     "text": [
      "\n",
      "Final DataFrame ready for training:\n",
      "   quantity  day_of_week  day_of_year  month  week_of_year  lag_7  lag_14   \n",
      "0        69            1          112      4            17   79.0    52.0  \\\n",
      "1        97            2          113      4            17   72.0    85.0   \n",
      "2        82            3          114      4            17   81.0    76.0   \n",
      "3       122            4          115      4            17  101.0    99.0   \n",
      "4       119            5          116      4            17  129.0   129.0   \n",
      "\n",
      "   rolling_mean_7  rolling_mean_14  sku_id_banana789  sku_id_mango123   \n",
      "0       89.000000        86.500000             False            False  \\\n",
      "1       87.571429        87.714286             False            False   \n",
      "2       91.142857        88.571429             False            False   \n",
      "3       91.285714        89.000000             False            False   \n",
      "4       94.285714        90.642857             False            False   \n",
      "\n",
      "   location_Delhi  location_Mumbai  \n",
      "0           False            False  \n",
      "1           False            False  \n",
      "2           False            False  \n",
      "3           False            False  \n",
      "4           False            False  \n",
      "\n",
      "Columns: Index(['quantity', 'day_of_week', 'day_of_year', 'month', 'week_of_year',\n",
      "       'lag_7', 'lag_14', 'rolling_mean_7', 'rolling_mean_14',\n",
      "       'sku_id_banana789', 'sku_id_mango123', 'location_Delhi',\n",
      "       'location_Mumbai'],\n",
      "      dtype='object')\n"
     ]
    }
   ],
   "source": [
    "# Use pandas' get_dummies for one-hot encoding\n",
    "df_final = pd.get_dummies(df_featured, columns=['sku_id', 'location'], drop_first=True)\n",
    "\n",
    "# We can now drop the original date column as we have extracted features from it\n",
    "df_final = df_final.drop('order_date', axis=1)\n",
    "\n",
    "print(\"\\nFinal DataFrame ready for training:\")\n",
    "print(df_final.head())\n",
    "print(\"\\nColumns:\", df_final.columns)"
   ]
  },
  {
   "cell_type": "code",
   "execution_count": 17,
   "metadata": {},
   "outputs": [
    {
     "name": "stdout",
     "output_type": "stream",
     "text": [
      "Training data shape: (324, 12)\n",
      "Test data shape: (90, 12)\n"
     ]
    }
   ],
   "source": [
    "# Define the target variable and features\n",
    "TARGET = 'quantity'\n",
    "FEATURES = [col for col in df_final.columns if col != TARGET]\n",
    "\n",
    "X = df_final[FEATURES]\n",
    "y = df_final[TARGET]\n",
    "\n",
    "# Let's use the last 10 days of data for validation\n",
    "cutoff_point = df_featured['order_date'].max() - pd.Timedelta(days=10)\n",
    "train_idx = df_featured[df_featured['order_date'] <= cutoff_point].index\n",
    "test_idx = df_featured[df_featured['order_date'] > cutoff_point].index\n",
    "\n",
    "X_train, X_test = X.iloc[train_idx], X.iloc[test_idx]\n",
    "y_train, y_test = y.iloc[train_idx], y.iloc[test_idx]\n",
    "\n",
    "print(f\"Training data shape: {X_train.shape}\")\n",
    "print(f\"Test data shape: {X_test.shape}\")"
   ]
  },
  {
   "cell_type": "code",
   "execution_count": 18,
   "metadata": {},
   "outputs": [
    {
     "name": "stdout",
     "output_type": "stream",
     "text": [
      "Training the XGBoost model...\n",
      "[0]\tvalidation_0-mae:83.25074\tvalidation_1-mae:101.44590\n"
     ]
    },
    {
     "name": "stderr",
     "output_type": "stream",
     "text": [
      "c:\\Users\\Prajwal\\AppData\\Local\\Programs\\Python\\Python310\\lib\\site-packages\\xgboost\\sklearn.py:835: UserWarning: `eval_metric` in `fit` method is deprecated for better compatibility with scikit-learn, use `eval_metric` in constructor or`set_params` instead.\n",
      "  warnings.warn(\n",
      "c:\\Users\\Prajwal\\AppData\\Local\\Programs\\Python\\Python310\\lib\\site-packages\\xgboost\\sklearn.py:835: UserWarning: `early_stopping_rounds` in `fit` method is deprecated for better compatibility with scikit-learn, use `early_stopping_rounds` in constructor or`set_params` instead.\n",
      "  warnings.warn(\n"
     ]
    },
    {
     "name": "stdout",
     "output_type": "stream",
     "text": [
      "[100]\tvalidation_0-mae:4.31717\tvalidation_1-mae:9.15386\n",
      "[164]\tvalidation_0-mae:2.95934\tvalidation_1-mae:9.16445\n"
     ]
    },
    {
     "data": {
      "text/html": [
       "<style>#sk-container-id-2 {color: black;background-color: white;}#sk-container-id-2 pre{padding: 0;}#sk-container-id-2 div.sk-toggleable {background-color: white;}#sk-container-id-2 label.sk-toggleable__label {cursor: pointer;display: block;width: 100%;margin-bottom: 0;padding: 0.3em;box-sizing: border-box;text-align: center;}#sk-container-id-2 label.sk-toggleable__label-arrow:before {content: \"▸\";float: left;margin-right: 0.25em;color: #696969;}#sk-container-id-2 label.sk-toggleable__label-arrow:hover:before {color: black;}#sk-container-id-2 div.sk-estimator:hover label.sk-toggleable__label-arrow:before {color: black;}#sk-container-id-2 div.sk-toggleable__content {max-height: 0;max-width: 0;overflow: hidden;text-align: left;background-color: #f0f8ff;}#sk-container-id-2 div.sk-toggleable__content pre {margin: 0.2em;color: black;border-radius: 0.25em;background-color: #f0f8ff;}#sk-container-id-2 input.sk-toggleable__control:checked~div.sk-toggleable__content {max-height: 200px;max-width: 100%;overflow: auto;}#sk-container-id-2 input.sk-toggleable__control:checked~label.sk-toggleable__label-arrow:before {content: \"▾\";}#sk-container-id-2 div.sk-estimator input.sk-toggleable__control:checked~label.sk-toggleable__label {background-color: #d4ebff;}#sk-container-id-2 div.sk-label input.sk-toggleable__control:checked~label.sk-toggleable__label {background-color: #d4ebff;}#sk-container-id-2 input.sk-hidden--visually {border: 0;clip: rect(1px 1px 1px 1px);clip: rect(1px, 1px, 1px, 1px);height: 1px;margin: -1px;overflow: hidden;padding: 0;position: absolute;width: 1px;}#sk-container-id-2 div.sk-estimator {font-family: monospace;background-color: #f0f8ff;border: 1px dotted black;border-radius: 0.25em;box-sizing: border-box;margin-bottom: 0.5em;}#sk-container-id-2 div.sk-estimator:hover {background-color: #d4ebff;}#sk-container-id-2 div.sk-parallel-item::after {content: \"\";width: 100%;border-bottom: 1px solid gray;flex-grow: 1;}#sk-container-id-2 div.sk-label:hover label.sk-toggleable__label {background-color: #d4ebff;}#sk-container-id-2 div.sk-serial::before {content: \"\";position: absolute;border-left: 1px solid gray;box-sizing: border-box;top: 0;bottom: 0;left: 50%;z-index: 0;}#sk-container-id-2 div.sk-serial {display: flex;flex-direction: column;align-items: center;background-color: white;padding-right: 0.2em;padding-left: 0.2em;position: relative;}#sk-container-id-2 div.sk-item {position: relative;z-index: 1;}#sk-container-id-2 div.sk-parallel {display: flex;align-items: stretch;justify-content: center;background-color: white;position: relative;}#sk-container-id-2 div.sk-item::before, #sk-container-id-2 div.sk-parallel-item::before {content: \"\";position: absolute;border-left: 1px solid gray;box-sizing: border-box;top: 0;bottom: 0;left: 50%;z-index: -1;}#sk-container-id-2 div.sk-parallel-item {display: flex;flex-direction: column;z-index: 1;position: relative;background-color: white;}#sk-container-id-2 div.sk-parallel-item:first-child::after {align-self: flex-end;width: 50%;}#sk-container-id-2 div.sk-parallel-item:last-child::after {align-self: flex-start;width: 50%;}#sk-container-id-2 div.sk-parallel-item:only-child::after {width: 0;}#sk-container-id-2 div.sk-dashed-wrapped {border: 1px dashed gray;margin: 0 0.4em 0.5em 0.4em;box-sizing: border-box;padding-bottom: 0.4em;background-color: white;}#sk-container-id-2 div.sk-label label {font-family: monospace;font-weight: bold;display: inline-block;line-height: 1.2em;}#sk-container-id-2 div.sk-label-container {text-align: center;}#sk-container-id-2 div.sk-container {/* jupyter's `normalize.less` sets `[hidden] { display: none; }` but bootstrap.min.css set `[hidden] { display: none !important; }` so we also need the `!important` here to be able to override the default hidden behavior on the sphinx rendered scikit-learn.org. See: https://github.com/scikit-learn/scikit-learn/issues/21755 */display: inline-block !important;position: relative;}#sk-container-id-2 div.sk-text-repr-fallback {display: none;}</style><div id=\"sk-container-id-2\" class=\"sk-top-container\"><div class=\"sk-text-repr-fallback\"><pre>XGBRegressor(base_score=None, booster=None, callbacks=None,\n",
       "             colsample_bylevel=None, colsample_bynode=None,\n",
       "             colsample_bytree=0.8, early_stopping_rounds=None,\n",
       "             enable_categorical=False, eval_metric=None, feature_types=None,\n",
       "             gamma=None, gpu_id=None, grow_policy=None, importance_type=None,\n",
       "             interaction_constraints=None, learning_rate=0.05, max_bin=None,\n",
       "             max_cat_threshold=None, max_cat_to_onehot=None,\n",
       "             max_delta_step=None, max_depth=5, max_leaves=None,\n",
       "             min_child_weight=None, missing=nan, monotone_constraints=None,\n",
       "             n_estimators=1000, n_jobs=-1, num_parallel_tree=None,\n",
       "             predictor=None, random_state=42, ...)</pre><b>In a Jupyter environment, please rerun this cell to show the HTML representation or trust the notebook. <br />On GitHub, the HTML representation is unable to render, please try loading this page with nbviewer.org.</b></div><div class=\"sk-container\" hidden><div class=\"sk-item\"><div class=\"sk-estimator sk-toggleable\"><input class=\"sk-toggleable__control sk-hidden--visually\" id=\"sk-estimator-id-2\" type=\"checkbox\" checked><label for=\"sk-estimator-id-2\" class=\"sk-toggleable__label sk-toggleable__label-arrow\">XGBRegressor</label><div class=\"sk-toggleable__content\"><pre>XGBRegressor(base_score=None, booster=None, callbacks=None,\n",
       "             colsample_bylevel=None, colsample_bynode=None,\n",
       "             colsample_bytree=0.8, early_stopping_rounds=None,\n",
       "             enable_categorical=False, eval_metric=None, feature_types=None,\n",
       "             gamma=None, gpu_id=None, grow_policy=None, importance_type=None,\n",
       "             interaction_constraints=None, learning_rate=0.05, max_bin=None,\n",
       "             max_cat_threshold=None, max_cat_to_onehot=None,\n",
       "             max_delta_step=None, max_depth=5, max_leaves=None,\n",
       "             min_child_weight=None, missing=nan, monotone_constraints=None,\n",
       "             n_estimators=1000, n_jobs=-1, num_parallel_tree=None,\n",
       "             predictor=None, random_state=42, ...)</pre></div></div></div></div></div>"
      ],
      "text/plain": [
       "XGBRegressor(base_score=None, booster=None, callbacks=None,\n",
       "             colsample_bylevel=None, colsample_bynode=None,\n",
       "             colsample_bytree=0.8, early_stopping_rounds=None,\n",
       "             enable_categorical=False, eval_metric=None, feature_types=None,\n",
       "             gamma=None, gpu_id=None, grow_policy=None, importance_type=None,\n",
       "             interaction_constraints=None, learning_rate=0.05, max_bin=None,\n",
       "             max_cat_threshold=None, max_cat_to_onehot=None,\n",
       "             max_delta_step=None, max_depth=5, max_leaves=None,\n",
       "             min_child_weight=None, missing=nan, monotone_constraints=None,\n",
       "             n_estimators=1000, n_jobs=-1, num_parallel_tree=None,\n",
       "             predictor=None, random_state=42, ...)"
      ]
     },
     "execution_count": 18,
     "metadata": {},
     "output_type": "execute_result"
    }
   ],
   "source": [
    "# Initialize the XGBoost Regressor with some common hyperparameters\n",
    "model = xgb.XGBRegressor(\n",
    "    n_estimators=1000,      # Number of boosting rounds\n",
    "    learning_rate=0.05,     # Step size shrinkage\n",
    "    max_depth=5,            # Maximum depth of a tree\n",
    "    subsample=0.8,          # Subsample ratio of the training instance\n",
    "    colsample_bytree=0.8,   # Subsample ratio of columns when constructing each tree\n",
    "    objective='reg:squarederror', # Specify the learning task and objective\n",
    "    n_jobs=-1,              # Use all available CPU threads\n",
    "    random_state=42\n",
    ")\n",
    "\n",
    "# Train the model with early stopping to prevent overfitting\n",
    "# Early stopping will stop training if the validation score doesn't improve for N rounds\n",
    "print(\"Training the XGBoost model...\")\n",
    "model.fit(X_train, y_train,\n",
    "          eval_set=[(X_train, y_train), (X_test, y_test)],\n",
    "          eval_metric='mae', # Mean Absolute Error\n",
    "          early_stopping_rounds=50,\n",
    "          verbose=100) # Print evaluation results every 100 rounds"
   ]
  },
  {
   "cell_type": "code",
   "execution_count": 19,
   "metadata": {},
   "outputs": [
    {
     "name": "stdout",
     "output_type": "stream",
     "text": [
      "\n",
      "--- Model Evaluation ---\n",
      "Mean Absolute Error (MAE): 9.06\n",
      "Root Mean Squared Error (RMSE): 11.16\n"
     ]
    },
    {
     "data": {
      "image/png": "[encoded data removed]",
      "text/plain": [
       "<Figure size 1000x800 with 1 Axes>"
      ]
     },
     "metadata": {},
     "output_type": "display_data"
    }
   ],
   "source": [
    "# Make predictions on the test set\n",
    "y_pred = model.predict(X_test)\n",
    "\n",
    "# Calculate performance metrics\n",
    "mae = mean_absolute_error(y_test, y_pred)\n",
    "rmse = np.sqrt(mean_squared_error(y_test, y_pred))\n",
    "\n",
    "print(f\"\\n--- Model Evaluation ---\")\n",
    "print(f\"Mean Absolute Error (MAE): {mae:.2f}\")\n",
    "print(f\"Root Mean Squared Error (RMSE): {rmse:.2f}\")\n",
    "\n",
    "# Optional: Plot feature importance\n",
    "fig, ax = plt.subplots(figsize=(10, 8))\n",
    "xgb.plot_importance(model, ax=ax, max_num_features=15)\n",
    "plt.title(\"Feature Importance\")\n",
    "plt.show()"
   ]
  },
  {
   "cell_type": "code",
   "execution_count": 20,
   "metadata": {},
   "outputs": [
    {
     "name": "stdout",
     "output_type": "stream",
     "text": [
      "Re-training the final model on all available data...\n",
      "Final model trained successfully.\n"
     ]
    }
   ],
   "source": [
    "# --- Re-train the model on the entire dataset ---\n",
    "print(\"Re-training the final model on all available data...\")\n",
    "\n",
    "# Use the same model definition as before\n",
    "final_model = xgb.XGBRegressor(\n",
    "    n_estimators=1000,\n",
    "    learning_rate=0.05,\n",
    "    max_depth=5,\n",
    "    subsample=0.8,\n",
    "    colsample_bytree=0.8,\n",
    "    objective='reg:squarederror',\n",
    "    n_jobs=-1,\n",
    "    random_state=42\n",
    ")\n",
    "\n",
    "# We use the full dataset X and y from Cell 5\n",
    "# No need for early stopping here as we don't have a validation set\n",
    "final_model.fit(X, y, verbose=False) \n",
    "\n",
    "print(\"Final model trained successfully.\")"
   ]
  },
  {
   "cell_type": "code",
   "execution_count": 22,
   "metadata": {},
   "outputs": [
    {
     "name": "stdout",
     "output_type": "stream",
     "text": [
      "\n",
      "Generating forecast for the next 7 days...\n"
     ]
    },
    {
     "name": "stderr",
     "output_type": "stream",
     "text": [
      "100%|██████████| 7/7 [00:00<00:00, 11.79it/s]"
     ]
    },
    {
     "name": "stdout",
     "output_type": "stream",
     "text": [
      "\n",
      "--- Forecast Generation Complete ---\n",
      "  order_date     sku_id   location  quantity\n",
      "0 2025-06-07   apple456  Bangalore       153\n",
      "1 2025-06-07   apple456      Delhi       176\n",
      "2 2025-06-07   apple456     Mumbai       165\n",
      "3 2025-06-07  banana789  Bangalore        97\n",
      "4 2025-06-07  banana789      Delhi       135\n"
     ]
    },
    {
     "name": "stderr",
     "output_type": "stream",
     "text": [
      "\n"
     ]
    }
   ],
   "source": [
    "from tqdm import tqdm # A nice progress bar for our loop\n",
    "\n",
    "# --- Set up for forecasting ---\n",
    "N_FORECAST_DAYS = 7\n",
    "last_date = pd.to_datetime(df['order_date'].max())\n",
    "skus = df['sku_id'].unique()\n",
    "locations = df['location'].unique()\n",
    "\n",
    "# Create a future dataframe with all combinations of future dates, skus, and locations\n",
    "future_dates = [last_date + pd.DateOffset(days=i) for i in range(1, N_FORECAST_DAYS + 1)]\n",
    "future_df = pd.DataFrame([(d, s, l) for d in future_dates for s in skus for l in locations], \n",
    "                         columns=['order_date', 'sku_id', 'location'])\n",
    "\n",
    "# --- Recursive Forecasting Loop ---\n",
    "# Use the last N days of historical data to create initial lags/rolling features\n",
    "history_df = df_featured.copy()\n",
    "predictions = []\n",
    "\n",
    "print(f\"\\nGenerating forecast for the next {N_FORECAST_DAYS} days...\")\n",
    "\n",
    "for day in tqdm(range(N_FORECAST_DAYS)):\n",
    "    # 1. Prepare the features for the current day we want to predict\n",
    "    current_day_df = future_df[future_df['order_date'] == future_dates[day]]\n",
    "    \n",
    "    # Merge with history to get recent quantities for lag/rolling features\n",
    "    # We need to go back far enough to calculate the largest lag/rolling window (14 days)\n",
    "    merged_df = pd.concat([history_df, current_day_df], ignore_index=True)\n",
    "\n",
    "    # 2. Create all features (time, lag, rolling)\n",
    "    featured_day = create_features(merged_df)\n",
    "    featured_day = create_lag_rolling_features(featured_day, drop_na=False) # <-- THE FIX\n",
    "    \n",
    "    # Filter to get only the rows for the day we are predicting\n",
    "    prediction_input_df = featured_day[featured_day['order_date'] == future_dates[day]].copy()\n",
    "    \n",
    "    # 3. One-hot encode and align columns with the training data\n",
    "    prediction_input_df_encoded = pd.get_dummies(prediction_input_df, columns=['sku_id', 'location'], drop_first=True)\n",
    "    prediction_input_df_encoded = prediction_input_df_encoded.reindex(columns=X.columns, fill_value=0)\n",
    "    \n",
    "    # 4. Make the prediction\n",
    "    daily_preds = final_model.predict(prediction_input_df_encoded)\n",
    "    \n",
    "    # 5. Store the prediction and update history for the next loop\n",
    "    prediction_input_df['quantity'] = np.round(daily_preds).astype(int)\n",
    "    # Ensure no negative predictions\n",
    "    prediction_input_df['quantity'] = prediction_input_df['quantity'].clip(lower=0)\n",
    "    \n",
    "    # Append the day's predictions to our history\n",
    "    history_df = pd.concat([history_df, prediction_input_df], ignore_index=True)\n",
    "    # Append to our final predictions list\n",
    "    predictions.append(prediction_input_df)\n",
    "\n",
    "# Combine all daily predictions into a single DataFrame\n",
    "final_forecast_df = pd.concat(predictions, ignore_index=True)\n",
    "\n",
    "print(\"\\n--- Forecast Generation Complete ---\")\n",
    "print(final_forecast_df[['order_date', 'sku_id', 'location', 'quantity']].head())"
   ]
  },
  {
   "cell_type": "code",
   "execution_count": 23,
   "metadata": {},
   "outputs": [
    {
     "name": "stdout",
     "output_type": "stream",
     "text": [
      "--- Starting JSON formatting ---\n",
      "\n",
      "SUCCESS: Forecast data successfully saved to 'forecast_output.json'\n",
      "\n",
      "--- Sample of generated JSON ---\n",
      "{\n",
      "    \"sku_id\": \"apple456\",\n",
      "    \"location\": \"Bangalore\",\n",
      "    \"forecast_next_7_days\": [\n",
      "        153,\n",
      "        123,\n",
      "        113,\n",
      "        113,\n",
      "        113,\n",
      "        116,\n",
      "        142\n",
      "    ]\n",
      "}\n"
     ]
    }
   ],
   "source": [
    "import json\n",
    "import pandas as pd # Make sure pandas is imported if in a new script\n",
    "\n",
    "# Assuming 'final_forecast_df' is your DataFrame with the 7-day predictions\n",
    "# It should look like this:\n",
    "#    order_date     sku_id   location  quantity\n",
    "# 0  2025-06-07   apple456  Bangalore       153\n",
    "# 1  2025-06-07   apple456      Delhi       176\n",
    "# 2  2025-06-07   apple456     Mumbai       165\n",
    "# ...\n",
    "\n",
    "# --- Step 1: Initialize an empty list to hold our JSON objects ---\n",
    "output_data = []\n",
    "\n",
    "print(\"--- Starting JSON formatting ---\")\n",
    "\n",
    "# --- Step 2: Group the DataFrame by SKU and Location ---\n",
    "# The .groupby() method is perfect for this. It will create a separate group\n",
    "# for each of the 9 unique combinations (e.g., ('apple456', 'Bangalore')).\n",
    "grouped = final_forecast_df.groupby(['sku_id', 'location'])\n",
    "\n",
    "# --- Step 3: Loop through each group to build the JSON objects ---\n",
    "for (sku, loc), group_df in grouped:\n",
    "    \n",
    "    # Ensure the forecasts within each group are in chronological order\n",
    "    sorted_group = group_df.sort_values('order_date')\n",
    "    \n",
    "    # Extract the 'quantity' column and convert it to a simple Python list\n",
    "    forecast_list = sorted_group['quantity'].tolist()\n",
    "    \n",
    "    # Create the dictionary object in the desired format\n",
    "    output_object = {\n",
    "        \"sku_id\": sku,\n",
    "        \"location\": loc,\n",
    "        \"forecast_next_7_days\": forecast_list\n",
    "    }\n",
    "    \n",
    "    # Add the newly created object to our main list\n",
    "    output_data.append(output_object)\n",
    "\n",
    "# --- Step 4: Define the output filename and save the data ---\n",
    "output_filename = 'forecast_output.json'\n",
    "\n",
    "try:\n",
    "    with open(output_filename, 'w') as f:\n",
    "        # json.dump() writes the Python list of dictionaries to the file\n",
    "        # indent=4 makes the JSON file human-readable and \"pretty\"\n",
    "        json.dump(output_data, f, indent=4)\n",
    "    \n",
    "    print(f\"\\nSUCCESS: Forecast data successfully saved to '{output_filename}'\")\n",
    "\n",
    "except Exception as e:\n",
    "    print(f\"\\nERROR: An issue occurred while saving the file: {e}\")\n",
    "\n",
    "\n",
    "# --- Step 5: (Optional but Recommended) Print a sample to verify ---\n",
    "if output_data:\n",
    "    print(\"\\n--- Sample of generated JSON ---\")\n",
    "    # json.dumps() converts a Python object to a JSON formatted string for printing\n",
    "    print(json.dumps(output_data[0], indent=4))"
   ]
  },
  {
   "cell_type": "code",
   "execution_count": null,
   "metadata": {},
   "outputs": [],
   "source": []
  },
  {
   "cell_type": "code",
   "execution_count": null,
   "metadata": {},
   "outputs": [],
   "source": []
  }
 ],
 "metadata": {
  "kernelspec": {
   "display_name": "Python 3",
   "language": "python",
   "name": "python3"
  },
  "language_info": {
   "codemirror_mode": {
    "name": "ipython",
    "version": 3
   },
   "file_extension": ".py",
   "mimetype": "text/x-python",
   "name": "python",
   "nbconvert_exporter": "python",
   "pygments_lexer": "ipython3",
   "version": "3.10.9"
  }
 },
 "nbformat": 4,
 "nbformat_minor": 2
}
